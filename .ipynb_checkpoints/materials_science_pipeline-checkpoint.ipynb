{
 "cells": [
  {
   "cell_type": "markdown",
   "metadata": {},
   "source": [
    "# Materials Science Data Pipeline\n",
    "\n",
    "**Author**: <Your Name>\n",
    "\n",
    "This notebook analyzes atomic configuration data, performs charge normalization, computes derived coordinates, fits physical models, and visualizes structural and electronic properties."
   ]
  },
  {
   "cell_type": "code",
   "execution_count": null,
   "metadata": {},
   "outputs": [],
   "source": [
    "# --- 1. IMPORTS & CONSTANTS ---\n",
    "import numpy as np\n",
    "import matplotlib.pyplot as plt\n",
    "import warnings\n",
    "from scipy.optimize import curve_fit\n",
    "import sympy as sp\n",
    "\n",
    "warnings.filterwarnings(\"ignore\", category=RuntimeWarning)\n",
    "np.set_printoptions(precision=6, suppress=True)"
   ]
  },
  {
   "cell_type": "markdown",
   "metadata": {},
   "source": [
    "## 2. Load and Prepare Atomic Data\n",
    "\n",
    "> **Insert your real S1xyz, S2xyz, Moxyz data where indicated below.**"
   ]
  },
  {
   "cell_type": "code",
   "execution_count": null,
   "metadata": {},
   "outputs": [],
   "source": [
    "# Example placeholders; replace them with your actual data arrays\n",
    "n, m = 11, 16  # n: number of frames, m: number of points per frame (unit cell)\n",
    "S1xyz = np.random.rand(n, m, 3)  # <-- Replace with actual data\n",
    "S2xyz = np.random.rand(n, m, 3)\n",
    "Moxyz = np.random.rand(n, m, 3)\n",
    "\n",
    "# Spacing constants\n",
    "dy = 0.315 - 0.1575\n",
    "\n",
    "# Reference z values for normalization\n",
    "reference_z = np.array([1.565, 1.5869, 1.6008, 1.6225, 1.6441,\n",
    "                        1.6656, 1.687, 1.7081, 1.7291, 1.7498, 1.7703])\n",
    "\n",
    "# Normalize all z-coordinates\n",
    "for i in range(n):\n",
    "    S1xyz[i, :, 2] -= reference_z[i]\n",
    "    S2xyz[i, :, 2] -= reference_z[i]\n",
    "    Moxyz[i, :, 2] -= reference_z[i]"
   ]
  },
  {
   "cell_type": "markdown",
   "metadata": {},
   "source": [
    "## 3. Build Derived Coordinate Sets"
   ]
  },
  {
   "cell_type": "code",
   "execution_count": null,
   "metadata": {},
   "outputs": [],
   "source": [
    "pair_count = m // 2\n",
    "\n",
    "def construct_derived_arrays(Sxyz):\n",
    "    A, B, C, D = [], [], [], []\n",
    "    for i in range(n):\n",
    "        Ai, Bi, Ci, Di = [], [], [], []\n",
    "        for p in range(pair_count):\n",
    "            odd_idx, even_idx = 2*p, 2*p+1\n",
    "            Bi.append(Sxyz[i, odd_idx])\n",
    "            Ci.append(Sxyz[i, even_idx])\n",
    "            up = Sxyz[i, even_idx].copy()\n",
    "            up[1] += 2*dy\n",
    "            Ai.append(up)\n",
    "            if p > 0:\n",
    "                down = Sxyz[i, even_idx].copy()\n",
    "                down[1] -= 2*dy\n",
    "                Di.append(down)\n",
    "        A.append(Ai)\n",
    "        B.append(Bi)\n",
    "        C.append(Ci)\n",
    "        D.append(Di)\n",
    "    return (np.array(A), np.array(B), np.array(C), np.array(D))\n",
    "\n",
    "S1xyzA, S1xyzB, S1xyzC, S1xyzD = construct_derived_arrays(S1xyz)\n",
    "S2xyzA, S2xyzB, S2xyzC, S2xyzD = construct_derived_arrays(S2xyz)\n",
    "MoxyzA = Moxyz[:, :m-1, :]\n",
    "\n",
    "print(\"Shapes:\", S1xyzA.shape, S1xyzB.shape, S1xyzC.shape, S1xyzD.shape)"
   ]
  },
  {
   "cell_type": "markdown",
   "metadata": {},
   "source": [
    "## 4. Visualize Atomic Positions"
   ]
  },
  {
   "cell_type": "code",
   "execution_count": null,
   "metadata": {},
   "outputs": [],
   "source": [
    "fig, axs = plt.subplots(1, 3, figsize=(15, 4))\n",
    "titles = [\"S1xyz – raw\", \"S2xyz – raw\", \"Moxyz – raw\"]\n",
    "for ax, title in zip(axs, titles):\n",
    "    ax.set_title(title)\n",
    "    ax.set_xlabel(\"x\")\n",
    "    ax.set_ylabel(\"z\")\n",
    "    ax.grid(True)\n",
    "for i in range(n):\n",
    "    axs[0].plot(S1xyz[i, :, 0], S1xyz[i, :, 2], label=f\"Row {i}\")\n",
    "    axs[1].plot(S2xyz[i, :, 0], S2xyz[i, :, 2])\n",
    "    axs[2].plot(Moxyz[i, :, 0], Moxyz[i, :, 2])\n",
    "axs[0].legend(ncol=2, fontsize=\"small\")\n",
    "plt.tight_layout()\n",
    "plt.show()"
   ]
  },
  {
   "cell_type": "markdown",
   "metadata": {},
   "source": [
    "## 5. Charge Differences and Normalization\n",
    "\n",
    "> **Replace arrays with your actual charge data!**"
   ]
  },
  {
   "cell_type": "code",
   "execution_count": null,
   "metadata": {},
   "outputs": [],
   "source": [
    "# Example random arrays. Replace with your actual qS1Initial, qS2Initial, qMoInitial\n",
    "qS1Initial = np.random.rand(n, m) * 1e-6\n",
    "qS2Initial = np.random.rand(n, m) * 1e-6\n",
    "qMoInitial = np.random.rand(n, m) * 1e-6\n",
    "\n",
    "dq = (np.sum(qS1Initial, axis=1) + np.sum(qS2Initial, axis=1) + np.sum(qMoInitial, axis=1)) / (3*m)\n",
    "print(\"dq offset:\\n\", dq)\n",
    "\n",
    "def process_compact(x, y=-4):\n",
    "    dq_broadcast = dq[:, np.newaxis] if x.ndim == 2 and dq.ndim == 1 else dq\n",
    "    precision = 10**y\n",
    "    return np.round((x - dq_broadcast + 10**(y - 1)) / precision) * precision\n",
    "\n",
    "S1q = process_compact(qS1Initial)\n",
    "S2q = process_compact(qS2Initial)\n",
    "Moq = process_compact(qMoInitial)\n",
    "\n",
    "print(\"\\nCharge normalization example (S1q row 0):\\n\", S1q[0])"
   ]
  },
  {
   "cell_type": "markdown",
   "metadata": {},
   "source": [
    "## 6. Dipole and Center-of-Mass Calculations"
   ]
  },
  {
   "cell_type": "code",
   "execution_count": null,
   "metadata": {},
   "outputs": [],
   "source": [
    "mMo = 95.95    # Molybdenum atomic mass\n",
    "mS = 32.065    # Sulfur atomic mass\n",
    "QS = -0.5      # S charge\n",
    "QMo = 1.0      # Mo charge\n",
    "\n",
    "def calc_dipole_moments(MoxyzA, S1xyzA, S2xyzA, S1xyzB, S2xyzB, S1xyzC, S2xyzC, S1xyzD, S2xyzD):\n",
    "    n, p, _ = S1xyzA.shape\n",
    "    pA, pB = [], []\n",
    "    for j in range(n):\n",
    "        pA_j, pB_j = [], []\n",
    "        for i in range(p):\n",
    "            try:\n",
    "                a = (MoxyzA[j, i * 2] * QMo +\n",
    "                     (S1xyzA[j, i] + S2xyzA[j, i] +\n",
    "                      S1xyzB[j, i] + S2xyzB[j, i] +\n",
    "                      S1xyzC[j, i] + S2xyzC[j, i]) * QS / 3)\n",
    "                pA_j.append(a)\n",
    "                if (i * 2 + 1) < MoxyzA.shape[1] and (i+1) < S1xyzB.shape[1]:\n",
    "                    b = (MoxyzA[j, i * 2 + 1] * QMo +\n",
    "                         (S1xyzB[j, i+1] + S2xyzB[j, i+1] +\n",
    "                          S1xyzC[j, i] + S2xyzC[j, i] +\n",
    "                          S1xyzD[j, i] + S2xyzD[j, i]) * QS / 3)\n",
    "                    pB_j.append(b)\n",
    "            except IndexError:\n",
    "                continue\n",
    "        pA.append(pA_j)\n",
    "        pB.append(pB_j)\n",
    "    return np.array(pA), np.array(pB)\n",
    "\n",
    "pA, pB = calc_dipole_moments(MoxyzA, S1xyzA, S2xyzA, S1xyzB, S2xyzB, S1xyzC, S2xyzC, S1xyzD, S2xyzD)\n",
    "print(\"Dipole pA shape:\", pA.shape, \"Dipole pB shape:\", pB.shape)\n"
   ]
  },
  {
   "cell_type": "markdown",
   "metadata": {},
   "source": [
    "## 7. Model Fitting Example"
   ]
  },
  {
   "cell_type": "code",
   "execution_count": null,
   "metadata": {},
   "outputs": [],
   "source": [
    "# Dummy example data for fitting (replace rx/uz by your real data)\n",
    "rx = np.linspace(0, 5, 50)\n",
    "uz = 1.8 * np.cos(2 * np.pi / 5 * rx) + 0.05*np.random.randn(50)\n",
    "\n",
    "def fit_cosine(rx, uz):\n",
    "    def model(x, a):\n",
    "        return a * np.cos(np.mean(np.gradient(x)) * x)\n",
    "    params, _ = curve_fit(model, rx, uz, p0=[1.8])\n",
    "    return params\n",
    "\n",
    "params = fit_cosine(rx, uz)\n",
    "print(\"Fit params:\", params)\n",
    "\n",
    "def plot_fitted(rx, uz, params):\n",
    "    plt.figure(figsize=(7,4))\n",
    "    x_fit = np.linspace(np.min(rx), np.max(rx), 100)\n",
    "    plt.scatter(rx, uz, label='Data')\n",
    "    plt.plot(x_fit, params[0] * np.cos(np.mean(np.gradient(rx)) * x_fit), 'r-', label='Fit')\n",
    "    plt.xlabel(\"rx\")\n",
    "    plt.ylabel(\"Uz\")\n",
    "    plt.legend()\n",
    "    plt.title(\"Cosine-fit to Uz(x)\")\n",
    "    plt.grid()\n",
    "    plt.show()\n",
    "\n",
    "plot_fitted(rx, uz, params)"
   ]
  },
  {
   "cell_type": "markdown",
   "metadata": {},
   "source": [
    "## 8. Symbolic Calculation Example"
   ]
  },
  {
   "cell_type": "code",
   "execution_count": null,
   "metadata": {},
   "outputs": [],
   "source": [
    "x, k, U0, dzc = sp.symbols(\"x k U0 dzc\")\n",
    "equ = dzc * sp.cos(k*x) - U0*k**2 * sp.cos(k*x) / 2\n",
    "solution = sp.solve(equ, U0)\n",
    "print(\"Symbolic U0 solution:\", solution)"
   ]
  },
  {
   "cell_type": "markdown",
   "metadata": {},
   "source": [
    "---\n",
    "# 9. Conclusion\n",
    "\n",
    "_This notebook demonstrates how to structure a materials science analysis pipeline in Python for extension and reuse. Replace the example arrays with your simulation data for real results, and expand the analysis as needed._"
   ]
  }
 ],
 "metadata": {
  "kernelspec": {
   "display_name": "Python 3",
   "language": "python",
   "name": "python3"
  },
  "language_info": {
   "codemirror_mode": {
    "name": "ipython",
    "version": 3
   },
   "file_extension": ".py",
   "mimetype": "text/x-python",
   "name": "python",
   "nbconvert_exporter": "python",
   "pygments_lexer": "ipython3",
   "version": "3.10"
  }
 },
 "nbformat": 4,
 "nbformat_minor": 2
}

